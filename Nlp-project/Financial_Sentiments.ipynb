{
  "cells": [
    {
      "cell_type": "markdown",
      "metadata": {
        "colab_type": "text",
        "id": "view-in-github"
      },
      "source": [
        "<a href=\"https://colab.research.google.com/github/LettitiaM/Nlp-project/blob/main/Financial_Sentiments.ipynb\" target=\"_parent\"><img src=\"https://colab.research.google.com/assets/colab-badge.svg\" alt=\"Open In Colab\"/></a>"
      ]
    },
    {
      "cell_type": "code",
      "execution_count": 14,
      "metadata": {
        "colab": {
          "base_uri": "https://localhost:8080/"
        },
        "id": "JRsx0odASi9l",
        "outputId": "5c2774ea-6a28-4ab4-d39c-573d2e48192e"
      },
      "outputs": [
        {
          "ename": "ModuleNotFoundError",
          "evalue": "No module named 'nltk'",
          "output_type": "error",
          "traceback": [
            "\u001b[0;31m---------------------------------------------------------------------------\u001b[0m",
            "\u001b[0;31mModuleNotFoundError\u001b[0m                       Traceback (most recent call last)",
            "Cell \u001b[0;32mIn[14], line 4\u001b[0m\n\u001b[1;32m      1\u001b[0m \u001b[39mimport\u001b[39;00m \u001b[39mpandas\u001b[39;00m \u001b[39mas\u001b[39;00m \u001b[39mpd\u001b[39;00m\n\u001b[1;32m      3\u001b[0m \u001b[39mimport\u001b[39;00m \u001b[39mnumpy\u001b[39;00m \u001b[39mas\u001b[39;00m \u001b[39mnp\u001b[39;00m\n\u001b[0;32m----> 4\u001b[0m \u001b[39mimport\u001b[39;00m \u001b[39mnltk\u001b[39;00m\n\u001b[1;32m      5\u001b[0m \u001b[39mfrom\u001b[39;00m \u001b[39mnltk\u001b[39;00m\u001b[39m.\u001b[39;00m\u001b[39mtokenize\u001b[39;00m \u001b[39mimport\u001b[39;00m sent_tokenize, word_tokenize\n\u001b[1;32m      6\u001b[0m nltk\u001b[39m.\u001b[39mdownload(\u001b[39m'\u001b[39m\u001b[39mpunkt\u001b[39m\u001b[39m'\u001b[39m)\n",
            "\u001b[0;31mModuleNotFoundError\u001b[0m: No module named 'nltk'"
          ]
        }
      ],
      "source": [
        "import pandas as pd\n",
        "\n",
        "import numpy as np\n",
        "import nltk\n",
        "from nltk.tokenize import sent_tokenize, word_tokenize\n",
        "nltk.download('punkt')\n",
        "import nltk.corpus \n",
        "import stopwords\n",
        "nltk.download('stopwords')\n",
        "import  tensorflow as tf\n",
        "import tensorflow_datasets as tfds\n",
        "import spacy\n",
        "\n",
        "from tensorflow.keras.preprocessing.sequence import pad_sequences"
      ]
    },
    {
      "cell_type": "code",
      "execution_count": 15,
      "metadata": {},
      "outputs": [
        {
          "ename": "SyntaxError",
          "evalue": "invalid syntax (3712826221.py, line 1)",
          "output_type": "error",
          "traceback": [
            "\u001b[0;36m  Cell \u001b[0;32mIn[15], line 1\u001b[0;36m\u001b[0m\n\u001b[0;31m    source python 3.8.9/bin/activate  # Replace path_to_venv with the actual path to your Python 3.8.1 environment.\u001b[0m\n\u001b[0m           ^\u001b[0m\n\u001b[0;31mSyntaxError\u001b[0m\u001b[0;31m:\u001b[0m invalid syntax\n"
          ]
        }
      ],
      "source": [
        "source python 3.8.9/bin/activate  # Replace path_to_venv with the actual path to your Python 3.8.1 environment.\n",
        "\n"
      ]
    },
    {
      "cell_type": "markdown",
      "metadata": {
        "id": "-rvihAcViP31"
      },
      "source": [
        "# Loading Data"
      ]
    },
    {
      "cell_type": "code",
      "execution_count": 3,
      "metadata": {
        "colab": {
          "base_uri": "https://localhost:8080/",
          "height": 56
        },
        "id": "7OqZA5MGRzZS",
        "outputId": "3127bf67-a0e5-4a45-e5ef-92e82fa2826e"
      },
      "outputs": [
        {
          "ename": "ModuleNotFoundError",
          "evalue": "No module named 'google.colab'",
          "output_type": "error",
          "traceback": [
            "\u001b[0;31m---------------------------------------------------------------------------\u001b[0m",
            "\u001b[0;31mModuleNotFoundError\u001b[0m                       Traceback (most recent call last)",
            "Cell \u001b[0;32mIn[3], line 1\u001b[0m\n\u001b[0;32m----> 1\u001b[0m \u001b[39mfrom\u001b[39;00m \u001b[39mgoogle\u001b[39;00m\u001b[39m.\u001b[39;00m\u001b[39mcolab\u001b[39;00m \u001b[39mimport\u001b[39;00m files\n\u001b[1;32m      2\u001b[0m files\u001b[39m.\u001b[39mupload()\n",
            "\u001b[0;31mModuleNotFoundError\u001b[0m: No module named 'google.colab'"
          ]
        }
      ],
      "source": [
        "from google.colab import files\n",
        "files.upload()"
      ]
    },
    {
      "cell_type": "code",
      "execution_count": null,
      "metadata": {
        "id": "4aRrEik4aIJI"
      },
      "outputs": [],
      "source": [
        "Financial_sentiments = pd.read_csv('data 2.csv')\n",
        "\n",
        "Financial_sentiments"
      ]
    },
    {
      "cell_type": "code",
      "execution_count": null,
      "metadata": {
        "id": "6RQhlXdEcQQu"
      },
      "outputs": [],
      "source": [
        "Financial_sentiments.shape"
      ]
    },
    {
      "cell_type": "code",
      "execution_count": null,
      "metadata": {
        "id": "jsLn3VW2pi6B"
      },
      "outputs": [],
      "source": [
        "Financial_sentiments.duplicated().sum()"
      ]
    },
    {
      "cell_type": "code",
      "execution_count": null,
      "metadata": {
        "id": "szW-jIz9hYQn"
      },
      "outputs": [],
      "source": [
        "Financial_sentiments.isnull().sum"
      ]
    },
    {
      "cell_type": "markdown",
      "metadata": {
        "id": "zT8bB4eph5ww"
      },
      "source": [
        "# Data Cleaning\n"
      ]
    },
    {
      "cell_type": "code",
      "execution_count": null,
      "metadata": {
        "id": "3B89imEoiNNb"
      },
      "outputs": [],
      "source": [
        "Financial_sentiments.drop_duplicates()\n",
        "\n"
      ]
    },
    {
      "cell_type": "code",
      "execution_count": null,
      "metadata": {
        "id": "Tb-culwt-aIm"
      },
      "outputs": [],
      "source": [
        "Financial_sentiments"
      ]
    },
    {
      "cell_type": "code",
      "execution_count": null,
      "metadata": {
        "id": "TS2bU6Lpq5vi"
      },
      "outputs": [],
      "source": [
        "#Text lowercasing\n",
        "def to_lower_case(text):\n",
        "    return str.lower(text)\n"
      ]
    },
    {
      "cell_type": "code",
      "execution_count": null,
      "metadata": {
        "id": "YOUt23xLzUb3"
      },
      "outputs": [],
      "source": [
        "Financial_sentiments['Sentence']=Financial_sentiments['Sentence'].apply(lambda x:to_lower_case(x))\n",
        "Financial_sentiments\n"
      ]
    },
    {
      "cell_type": "code",
      "execution_count": null,
      "metadata": {
        "id": "VyIcE0YqztvF"
      },
      "outputs": [],
      "source": [
        "#Tokenize sentences\n",
        "def tokenize_sentences(text):\n",
        "    return sent_tokenize(text)"
      ]
    },
    {
      "cell_type": "code",
      "execution_count": null,
      "metadata": {
        "id": "g5mpHGyz3tKq"
      },
      "outputs": [],
      "source": [
        "Financial_sentiments['Sentence']= Financial_sentiments['Sentence'].apply(lambda x:tokenize_sentences(x))\n",
        "Financial_sentiments"
      ]
    },
    {
      "cell_type": "code",
      "execution_count": null,
      "metadata": {
        "id": "TalK4mnQOBbx"
      },
      "outputs": [],
      "source": [
        "import tensorflow_datasets as tfds\n",
        "\n",
        "vocab_size = 3000\n",
        "tokenizer = tfds.deprecated.text.SubwordTextEncoder.build_from_corpus(Financial_sentiments['Sentence'], vocab_size, max_subword_length=20)"
      ]
    },
    {
      "cell_type": "code",
      "execution_count": null,
      "metadata": {
        "id": "S4yQQc9UbmpV"
      },
      "outputs": [],
      "source": [
        "# Check that the tokenizer works appropriately\n",
        "num = 5\n",
        "print(Financial_sentiments['Sentence'][num])\n",
        "encoded = tokenizer.encode(Financial_sentiments['Sentence'][num])\n",
        "print(encoded)\n",
        "# Separately print out each subword, decoded\n",
        "for i in encoded:\n",
        "  print(tokenizer.decode([i]))"
      ]
    },
    {
      "cell_type": "code",
      "execution_count": null,
      "metadata": {
        "id": "fCqxWix_9-M5"
      },
      "outputs": [],
      "source": [
        "#remove punctuations\n",
        "import string\n",
        "def remove_punc(text):\n",
        "  punct = string.punctuation\n",
        "  return ''.join([char for char in text if char not in punct])\n"
      ]
    },
    {
      "cell_type": "code",
      "execution_count": null,
      "metadata": {
        "id": "SXCMYSqh-QJa"
      },
      "outputs": [],
      "source": [
        "Financial_sentiments['Sentence']=Financial_sentiments['Sentence'].apply(lambda x:remove_punc(x))"
      ]
    },
    {
      "cell_type": "code",
      "execution_count": null,
      "metadata": {
        "id": "hVd2A58ZuF8b"
      },
      "outputs": [],
      "source": [
        "en = spacy.load('en_core_web_sm')"
      ]
    },
    {
      "cell_type": "code",
      "execution_count": null,
      "metadata": {
        "id": "My_mhIVbv1sW"
      },
      "outputs": [],
      "source": [
        "#Remove stopwords\n",
        "def remove_stopwords(text):\n",
        "  stop_words = set(stopwords.words('english'))\n",
        "  words = nltk.word.tokenize(text)\n",
        "  filtered_words = [word for word in words if word.lower() not in stop_words]\n",
        "  return ''.join(filtered_words)"
      ]
    }
  ],
  "metadata": {
    "colab": {
      "authorship_tag": "ABX9TyMteyPeKnGmAWr53sxQMNSA",
      "include_colab_link": true,
      "provenance": []
    },
    "kernelspec": {
      "display_name": "Python 3",
      "name": "python3"
    },
    "language_info": {
      "codemirror_mode": {
        "name": "ipython",
        "version": 3
      },
      "file_extension": ".py",
      "mimetype": "text/x-python",
      "name": "python",
      "nbconvert_exporter": "python",
      "pygments_lexer": "ipython3",
      "version": "3.8.9"
    }
  },
  "nbformat": 4,
  "nbformat_minor": 0
}
